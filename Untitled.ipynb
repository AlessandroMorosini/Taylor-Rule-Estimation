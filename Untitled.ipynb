{
 "cells": [
  {
   "cell_type": "code",
   "execution_count": 162,
   "id": "03f70b73-6d74-492c-a0be-aee7c69a09b2",
   "metadata": {},
   "outputs": [],
   "source": [
    "import pandas as pd\n",
    "from pathlib import Path\n",
    "from datetime import datetime"
   ]
  },
  {
   "cell_type": "code",
   "execution_count": 163,
   "id": "2e11be1a-8bc0-476b-9b24-15396c16feab",
   "metadata": {},
   "outputs": [],
   "source": [
    "raw_data_dir = Path.cwd() / \"data\" / \"raw\"\n",
    "clean_data_dir = Path.cwd() / \"data\" / \"clean\""
   ]
  },
  {
   "cell_type": "markdown",
   "id": "e65c41fb-fab8-4b86-aef4-437c03507baa",
   "metadata": {},
   "source": [
    "# Taylor Rule"
   ]
  },
  {
   "cell_type": "markdown",
   "id": "8e0325f8-7490-41f5-a46b-cd5df806e2d2",
   "metadata": {},
   "source": [
    "### Interest Rates"
   ]
  },
  {
   "cell_type": "markdown",
   "id": "302ff58b-8f71-4a72-aebd-62dd88e7afd0",
   "metadata": {},
   "source": [
    "(OECD)"
   ]
  },
  {
   "cell_type": "code",
   "execution_count": 187,
   "id": "b3e65eee-0756-4f65-8a9b-7cff135c2992",
   "metadata": {},
   "outputs": [],
   "source": [
    "df = pd.read_csv(\n",
    "    raw_data_dir / \"ST_interestrate_1980-2002.csv\",\n",
    "    sep=\";\",  \n",
    ")"
   ]
  },
  {
   "cell_type": "code",
   "execution_count": 189,
   "id": "1bb19fb0-7319-476c-8317-9d4059af7760",
   "metadata": {},
   "outputs": [],
   "source": [
    "df = df.rename(columns={\"Year\": \"year\", \"Interest Rate\": \"interest_rate\"})"
   ]
  },
  {
   "cell_type": "code",
   "execution_count": 190,
   "id": "801bf653-5ddd-49e0-9421-253dd7df4c75",
   "metadata": {},
   "outputs": [
    {
     "data": {
      "text/html": [
       "<div>\n",
       "<style scoped>\n",
       "    .dataframe tbody tr th:only-of-type {\n",
       "        vertical-align: middle;\n",
       "    }\n",
       "\n",
       "    .dataframe tbody tr th {\n",
       "        vertical-align: top;\n",
       "    }\n",
       "\n",
       "    .dataframe thead th {\n",
       "        text-align: right;\n",
       "    }\n",
       "</style>\n",
       "<table border=\"1\" class=\"dataframe\">\n",
       "  <thead>\n",
       "    <tr style=\"text-align: right;\">\n",
       "      <th></th>\n",
       "      <th>year</th>\n",
       "      <th>interest_rate</th>\n",
       "    </tr>\n",
       "  </thead>\n",
       "  <tbody>\n",
       "    <tr>\n",
       "      <th>0</th>\n",
       "      <td>1980</td>\n",
       "      <td>16,79</td>\n",
       "    </tr>\n",
       "    <tr>\n",
       "      <th>1</th>\n",
       "      <td>1981</td>\n",
       "      <td>19,23</td>\n",
       "    </tr>\n",
       "    <tr>\n",
       "      <th>2</th>\n",
       "      <td>1982</td>\n",
       "      <td>19,91</td>\n",
       "    </tr>\n",
       "    <tr>\n",
       "      <th>3</th>\n",
       "      <td>1983</td>\n",
       "      <td>18,31</td>\n",
       "    </tr>\n",
       "    <tr>\n",
       "      <th>4</th>\n",
       "      <td>1984</td>\n",
       "      <td>17,27</td>\n",
       "    </tr>\n",
       "  </tbody>\n",
       "</table>\n",
       "</div>"
      ],
      "text/plain": [
       "   year interest_rate\n",
       "0  1980         16,79\n",
       "1  1981         19,23\n",
       "2  1982         19,91\n",
       "3  1983         18,31\n",
       "4  1984         17,27"
      ]
     },
     "execution_count": 190,
     "metadata": {},
     "output_type": "execute_result"
    }
   ],
   "source": [
    "df.head()"
   ]
  },
  {
   "cell_type": "markdown",
   "id": "4d009384-2431-46f7-9794-30f2ffa1ea67",
   "metadata": {},
   "source": [
    "### Inflation"
   ]
  },
  {
   "cell_type": "markdown",
   "id": "0b8b0069-a866-4c31-8090-79b3d2df8d4a",
   "metadata": {},
   "source": [
    "(WWW.RIVALUTA.it)"
   ]
  },
  {
   "cell_type": "code",
   "execution_count": 164,
   "id": "0605ddde-d047-4be9-934b-8f14ca466076",
   "metadata": {},
   "outputs": [],
   "source": [
    "df = pd.read_csv(\n",
    "    raw_data_dir / \"datiinflazionemediaitalia.csv\", \n",
    "    sep=\";\",  \n",
    ")"
   ]
  },
  {
   "cell_type": "code",
   "execution_count": 165,
   "id": "f081764c-1472-4bee-8cee-fa5ee200919a",
   "metadata": {},
   "outputs": [],
   "source": [
    "df = df[1:-1]"
   ]
  },
  {
   "cell_type": "code",
   "execution_count": 166,
   "id": "64a8c109-e4a8-47db-8aff-a4977205dabe",
   "metadata": {},
   "outputs": [],
   "source": [
    "df = df.rename(columns={\"WWW.RIVALUTA.it\": \"inflation_rate\"})"
   ]
  },
  {
   "cell_type": "code",
   "execution_count": 167,
   "id": "e4455136-4b12-4993-9be3-516e7d37ff2c",
   "metadata": {},
   "outputs": [],
   "source": [
    "df.reset_index(col_level=0, names=\"year\", inplace=True)"
   ]
  },
  {
   "cell_type": "code",
   "execution_count": 168,
   "id": "8cd6c81a-117f-4300-8bd5-d2adec4c2ebd",
   "metadata": {},
   "outputs": [],
   "source": [
    "df = df.sort_values(\"year\")"
   ]
  },
  {
   "cell_type": "code",
   "execution_count": 169,
   "id": "cdea390a-1767-46cb-a7b2-422a1d946155",
   "metadata": {},
   "outputs": [
    {
     "data": {
      "text/html": [
       "<div>\n",
       "<style scoped>\n",
       "    .dataframe tbody tr th:only-of-type {\n",
       "        vertical-align: middle;\n",
       "    }\n",
       "\n",
       "    .dataframe tbody tr th {\n",
       "        vertical-align: top;\n",
       "    }\n",
       "\n",
       "    .dataframe thead th {\n",
       "        text-align: right;\n",
       "    }\n",
       "</style>\n",
       "<table border=\"1\" class=\"dataframe\">\n",
       "  <thead>\n",
       "    <tr style=\"text-align: right;\">\n",
       "      <th></th>\n",
       "      <th>year</th>\n",
       "      <th>inflation_rate</th>\n",
       "    </tr>\n",
       "  </thead>\n",
       "  <tbody>\n",
       "    <tr>\n",
       "      <th>67</th>\n",
       "      <td>1956</td>\n",
       "      <td>3,4%</td>\n",
       "    </tr>\n",
       "    <tr>\n",
       "      <th>66</th>\n",
       "      <td>1957</td>\n",
       "      <td>1,3%</td>\n",
       "    </tr>\n",
       "    <tr>\n",
       "      <th>65</th>\n",
       "      <td>1958</td>\n",
       "      <td>2,8%</td>\n",
       "    </tr>\n",
       "    <tr>\n",
       "      <th>64</th>\n",
       "      <td>1959</td>\n",
       "      <td>-0,4%</td>\n",
       "    </tr>\n",
       "    <tr>\n",
       "      <th>63</th>\n",
       "      <td>1960</td>\n",
       "      <td>2,3%</td>\n",
       "    </tr>\n",
       "  </tbody>\n",
       "</table>\n",
       "</div>"
      ],
      "text/plain": [
       "    year inflation_rate\n",
       "67  1956           3,4%\n",
       "66  1957           1,3%\n",
       "65  1958           2,8%\n",
       "64  1959          -0,4%\n",
       "63  1960           2,3%"
      ]
     },
     "execution_count": 169,
     "metadata": {},
     "output_type": "execute_result"
    }
   ],
   "source": [
    "df.head()"
   ]
  },
  {
   "cell_type": "code",
   "execution_count": 170,
   "id": "9f729a48-54f9-4793-9581-877d273259f9",
   "metadata": {},
   "outputs": [],
   "source": [
    "df.to_csv(clean_data_dir / \"inflation_rate.csv\", sep=\"\\t\", index=False)"
   ]
  },
  {
   "cell_type": "markdown",
   "id": "12b109e1-4cbd-45b4-aafd-49bb746e5317",
   "metadata": {
    "tags": []
   },
   "source": [
    "### Gdp"
   ]
  },
  {
   "cell_type": "markdown",
   "id": "ef123c6d-17ce-4e4d-ab07-9700607194d8",
   "metadata": {},
   "source": [
    "(Macrotrends)"
   ]
  },
  {
   "cell_type": "code",
   "execution_count": 171,
   "id": "ce464acc-d136-49f6-9bfd-4909ed47c33f",
   "metadata": {},
   "outputs": [],
   "source": [
    "df = pd.read_csv(\n",
    "    raw_data_dir / \"italy-gdp-gross-domestic-product.csv\",\n",
    "    sep=\",\",\n",
    "    usecols=[\"date\", \"GDP ( Billions of US $)\"],\n",
    ")"
   ]
  },
  {
   "cell_type": "code",
   "execution_count": 172,
   "id": "4e661ba1-212c-4d73-b67a-2e55e32ae39c",
   "metadata": {},
   "outputs": [],
   "source": [
    "df = df.rename(columns={\"GDP ( Billions of US $)\": \"gdp\"})"
   ]
  },
  {
   "cell_type": "code",
   "execution_count": 173,
   "id": "cae9378d-9afc-46a2-8b51-cc555669ce95",
   "metadata": {},
   "outputs": [],
   "source": [
    "def date_to_year(date):\n",
    "    date_object = datetime.strptime(date, \"%Y-%m-%d\")\n",
    "    year = date_object.year\n",
    "    return year"
   ]
  },
  {
   "cell_type": "code",
   "execution_count": 174,
   "id": "8d88d45d-0330-475a-8b0f-9c03eb5904bf",
   "metadata": {},
   "outputs": [],
   "source": [
    "df[\"year\"] = df[\"date\"].apply(lambda x: date_to_year(x))\n",
    "df.drop(\"date\", axis=1, inplace=True)"
   ]
  },
  {
   "cell_type": "code",
   "execution_count": 175,
   "id": "ec1ec774-9741-40e2-9b14-604bdfd3469e",
   "metadata": {},
   "outputs": [],
   "source": [
    "df = df[[\"year\", \"gdp\"]]"
   ]
  },
  {
   "cell_type": "code",
   "execution_count": 176,
   "id": "402c1779-104f-4ead-bf61-e1ca08b370e8",
   "metadata": {},
   "outputs": [
    {
     "data": {
      "text/html": [
       "<div>\n",
       "<style scoped>\n",
       "    .dataframe tbody tr th:only-of-type {\n",
       "        vertical-align: middle;\n",
       "    }\n",
       "\n",
       "    .dataframe tbody tr th {\n",
       "        vertical-align: top;\n",
       "    }\n",
       "\n",
       "    .dataframe thead th {\n",
       "        text-align: right;\n",
       "    }\n",
       "</style>\n",
       "<table border=\"1\" class=\"dataframe\">\n",
       "  <thead>\n",
       "    <tr style=\"text-align: right;\">\n",
       "      <th></th>\n",
       "      <th>year</th>\n",
       "      <th>gdp</th>\n",
       "    </tr>\n",
       "  </thead>\n",
       "  <tbody>\n",
       "    <tr>\n",
       "      <th>0</th>\n",
       "      <td>1960</td>\n",
       "      <td>40.385288</td>\n",
       "    </tr>\n",
       "    <tr>\n",
       "      <th>1</th>\n",
       "      <td>1961</td>\n",
       "      <td>44.842760</td>\n",
       "    </tr>\n",
       "    <tr>\n",
       "      <th>2</th>\n",
       "      <td>1962</td>\n",
       "      <td>50.383892</td>\n",
       "    </tr>\n",
       "    <tr>\n",
       "      <th>3</th>\n",
       "      <td>1963</td>\n",
       "      <td>57.710743</td>\n",
       "    </tr>\n",
       "    <tr>\n",
       "      <th>4</th>\n",
       "      <td>1964</td>\n",
       "      <td>63.175417</td>\n",
       "    </tr>\n",
       "  </tbody>\n",
       "</table>\n",
       "</div>"
      ],
      "text/plain": [
       "   year        gdp\n",
       "0  1960  40.385288\n",
       "1  1961  44.842760\n",
       "2  1962  50.383892\n",
       "3  1963  57.710743\n",
       "4  1964  63.175417"
      ]
     },
     "execution_count": 176,
     "metadata": {},
     "output_type": "execute_result"
    }
   ],
   "source": [
    "df.head()"
   ]
  },
  {
   "cell_type": "code",
   "execution_count": 177,
   "id": "53c3733d-804e-4f08-8ed2-fac0ca33698b",
   "metadata": {},
   "outputs": [],
   "source": [
    "df.to_csv(clean_data_dir / \"gdp.csv\", sep=\"\\t\", index=False)"
   ]
  },
  {
   "cell_type": "markdown",
   "id": "ba0b925b-8a2b-4ffa-a65d-1dc032bdd32b",
   "metadata": {},
   "source": [
    "### Output Gap "
   ]
  },
  {
   "cell_type": "markdown",
   "id": "7dea5ae6-2275-45b5-9df6-3f12a777e628",
   "metadata": {},
   "source": [
    "(Nasdaq)"
   ]
  },
  {
   "cell_type": "code",
   "execution_count": 178,
   "id": "2991157b-16b6-4384-9cf1-d6a46a553fff",
   "metadata": {},
   "outputs": [],
   "source": [
    "df = pd.read_csv(\n",
    "    raw_data_dir / \"nasdaq_output_gap.csv\",\n",
    "    sep=\",\",\n",
    ")"
   ]
  },
  {
   "cell_type": "code",
   "execution_count": 179,
   "id": "db2b97a3-b6ef-48f4-b9d6-c892e505bf69",
   "metadata": {},
   "outputs": [],
   "source": [
    "df = df.rename(columns={\"Value\": \"output_gap\"})"
   ]
  },
  {
   "cell_type": "code",
   "execution_count": 180,
   "id": "55606b13-9f69-4b7d-bd0c-64ce897d5322",
   "metadata": {},
   "outputs": [],
   "source": [
    "df[\"year\"] = df[\"Date\"].apply(lambda x: date_to_year(x))\n",
    "df.drop(\"Date\", axis=1, inplace=True)"
   ]
  },
  {
   "cell_type": "code",
   "execution_count": 181,
   "id": "4ca28a19-e821-4570-8aa6-09b7868093ca",
   "metadata": {},
   "outputs": [],
   "source": [
    "df = df[[\"year\", \"output_gap\"]]"
   ]
  },
  {
   "cell_type": "code",
   "execution_count": 182,
   "id": "d45c0641-e41c-4c6b-b402-039a3cd7e525",
   "metadata": {},
   "outputs": [],
   "source": [
    "df = df.sort_values(\"year\")"
   ]
  },
  {
   "cell_type": "code",
   "execution_count": 183,
   "id": "bbe8fd9b-7ff2-4181-ad74-d32b554de6f2",
   "metadata": {},
   "outputs": [
    {
     "data": {
      "text/html": [
       "<div>\n",
       "<style scoped>\n",
       "    .dataframe tbody tr th:only-of-type {\n",
       "        vertical-align: middle;\n",
       "    }\n",
       "\n",
       "    .dataframe tbody tr th {\n",
       "        vertical-align: top;\n",
       "    }\n",
       "\n",
       "    .dataframe thead th {\n",
       "        text-align: right;\n",
       "    }\n",
       "</style>\n",
       "<table border=\"1\" class=\"dataframe\">\n",
       "  <thead>\n",
       "    <tr style=\"text-align: right;\">\n",
       "      <th></th>\n",
       "      <th>year</th>\n",
       "      <th>output_gap</th>\n",
       "    </tr>\n",
       "  </thead>\n",
       "  <tbody>\n",
       "    <tr>\n",
       "      <th>44</th>\n",
       "      <td>1980</td>\n",
       "      <td>12.396</td>\n",
       "    </tr>\n",
       "    <tr>\n",
       "      <th>43</th>\n",
       "      <td>1981</td>\n",
       "      <td>-0.922</td>\n",
       "    </tr>\n",
       "    <tr>\n",
       "      <th>42</th>\n",
       "      <td>1982</td>\n",
       "      <td>-2.350</td>\n",
       "    </tr>\n",
       "    <tr>\n",
       "      <th>41</th>\n",
       "      <td>1983</td>\n",
       "      <td>-3.552</td>\n",
       "    </tr>\n",
       "    <tr>\n",
       "      <th>40</th>\n",
       "      <td>1984</td>\n",
       "      <td>-2.860</td>\n",
       "    </tr>\n",
       "  </tbody>\n",
       "</table>\n",
       "</div>"
      ],
      "text/plain": [
       "    year  output_gap\n",
       "44  1980      12.396\n",
       "43  1981      -0.922\n",
       "42  1982      -2.350\n",
       "41  1983      -3.552\n",
       "40  1984      -2.860"
      ]
     },
     "execution_count": 183,
     "metadata": {},
     "output_type": "execute_result"
    }
   ],
   "source": [
    "df.head()"
   ]
  },
  {
   "cell_type": "markdown",
   "id": "17e4fa8f-a7b7-4958-ae36-16935c3ae04f",
   "metadata": {},
   "source": [
    "# Additional Regressors"
   ]
  },
  {
   "cell_type": "markdown",
   "id": "a63c0e1a-aac7-4b94-b009-97f2b5205f34",
   "metadata": {},
   "source": [
    "### Unemployment"
   ]
  },
  {
   "cell_type": "markdown",
   "id": "2bb1eb4b-019b-4eab-9b8c-124c4dee12db",
   "metadata": {},
   "source": [
    "### Exchange Rate"
   ]
  },
  {
   "cell_type": "markdown",
   "id": "dfba8411-ce83-44b4-adab-e5924e778e09",
   "metadata": {},
   "source": [
    "### Foreign Interest Rate"
   ]
  },
  {
   "cell_type": "code",
   "execution_count": null,
   "id": "bdeceba5-d081-4bf1-830c-9ef5404e5213",
   "metadata": {},
   "outputs": [],
   "source": []
  }
 ],
 "metadata": {
  "kernelspec": {
   "display_name": "Python 3 (ipykernel)",
   "language": "python",
   "name": "python3"
  },
  "language_info": {
   "codemirror_mode": {
    "name": "ipython",
    "version": 3
   },
   "file_extension": ".py",
   "mimetype": "text/x-python",
   "name": "python",
   "nbconvert_exporter": "python",
   "pygments_lexer": "ipython3",
   "version": "3.11.0"
  }
 },
 "nbformat": 4,
 "nbformat_minor": 5
}
