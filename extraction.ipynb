{
 "cells": [
  {
   "cell_type": "code",
   "execution_count": 5,
   "id": "03f70b73-6d74-492c-a0be-aee7c69a09b2",
   "metadata": {},
   "outputs": [],
   "source": [
    "import pandas as pd\n",
    "from pathlib import Path\n",
    "from datetime import datetime"
   ]
  },
  {
   "cell_type": "code",
   "execution_count": 6,
   "id": "2e11be1a-8bc0-476b-9b24-15396c16feab",
   "metadata": {},
   "outputs": [],
   "source": [
    "raw_data_dir = Path.cwd() / \"data\" / \"raw\"\n",
    "clean_data_dir = Path.cwd() / \"data\" / \"clean\""
   ]
  },
  {
   "cell_type": "markdown",
   "id": "e65c41fb-fab8-4b86-aef4-437c03507baa",
   "metadata": {},
   "source": [
    "# Taylor Rule"
   ]
  },
  {
   "cell_type": "code",
   "execution_count": 7,
   "id": "bedeb645-93f6-45d0-b5dd-00d84532f11c",
   "metadata": {},
   "outputs": [],
   "source": [
    "time_span = [year for year in range(1980, 2003)]"
   ]
  },
  {
   "cell_type": "markdown",
   "id": "8e0325f8-7490-41f5-a46b-cd5df806e2d2",
   "metadata": {},
   "source": [
    "### Interest Rates"
   ]
  },
  {
   "cell_type": "markdown",
   "id": "302ff58b-8f71-4a72-aebd-62dd88e7afd0",
   "metadata": {},
   "source": [
    "(OECD)"
   ]
  },
  {
   "cell_type": "code",
   "execution_count": 22,
   "id": "b3e65eee-0756-4f65-8a9b-7cff135c2992",
   "metadata": {},
   "outputs": [],
   "source": [
    "df = pd.read_csv(\n",
    "    raw_data_dir / \"ST_interestrate_1980-2002.csv\",\n",
    "    sep=\";\",  \n",
    "    dtype={\"year\": int, \"interest_rate\": float}\n",
    ")"
   ]
  },
  {
   "cell_type": "code",
   "execution_count": 24,
   "id": "1bb19fb0-7319-476c-8317-9d4059af7760",
   "metadata": {},
   "outputs": [],
   "source": [
    "df = df.rename(columns={\"Year\": \"year\", \"Interest Rate\": \"interest_rate\"})"
   ]
  },
  {
   "cell_type": "code",
   "execution_count": 25,
   "id": "801bf653-5ddd-49e0-9421-253dd7df4c75",
   "metadata": {},
   "outputs": [],
   "source": [
    "df = df.loc[df[\"year\"].isin(time_span)]"
   ]
  },
  {
   "cell_type": "code",
   "execution_count": 28,
   "id": "bd73baaf-ae4e-4460-9a72-4da317109ed2",
   "metadata": {},
   "outputs": [
    {
     "data": {
      "text/html": [
       "<div>\n",
       "<style scoped>\n",
       "    .dataframe tbody tr th:only-of-type {\n",
       "        vertical-align: middle;\n",
       "    }\n",
       "\n",
       "    .dataframe tbody tr th {\n",
       "        vertical-align: top;\n",
       "    }\n",
       "\n",
       "    .dataframe thead th {\n",
       "        text-align: right;\n",
       "    }\n",
       "</style>\n",
       "<table border=\"1\" class=\"dataframe\">\n",
       "  <thead>\n",
       "    <tr style=\"text-align: right;\">\n",
       "      <th></th>\n",
       "      <th>year</th>\n",
       "      <th>interest_rate</th>\n",
       "    </tr>\n",
       "  </thead>\n",
       "  <tbody>\n",
       "    <tr>\n",
       "      <th>0</th>\n",
       "      <td>1980</td>\n",
       "      <td>16,79</td>\n",
       "    </tr>\n",
       "    <tr>\n",
       "      <th>1</th>\n",
       "      <td>1981</td>\n",
       "      <td>19,23</td>\n",
       "    </tr>\n",
       "    <tr>\n",
       "      <th>2</th>\n",
       "      <td>1982</td>\n",
       "      <td>19,91</td>\n",
       "    </tr>\n",
       "    <tr>\n",
       "      <th>3</th>\n",
       "      <td>1983</td>\n",
       "      <td>18,31</td>\n",
       "    </tr>\n",
       "    <tr>\n",
       "      <th>4</th>\n",
       "      <td>1984</td>\n",
       "      <td>17,27</td>\n",
       "    </tr>\n",
       "  </tbody>\n",
       "</table>\n",
       "</div>"
      ],
      "text/plain": [
       "   year interest_rate\n",
       "0  1980         16,79\n",
       "1  1981         19,23\n",
       "2  1982         19,91\n",
       "3  1983         18,31\n",
       "4  1984         17,27"
      ]
     },
     "execution_count": 28,
     "metadata": {},
     "output_type": "execute_result"
    }
   ],
   "source": [
    "df.head()"
   ]
  },
  {
   "cell_type": "code",
   "execution_count": 29,
   "id": "420e1bcd-3615-47cc-abed-fdeba93d5c9f",
   "metadata": {},
   "outputs": [],
   "source": [
    "df.to_csv(clean_data_dir / \"interest_rate.csv\", sep=\"\\t\", index=False)"
   ]
  },
  {
   "cell_type": "markdown",
   "id": "4d009384-2431-46f7-9794-30f2ffa1ea67",
   "metadata": {},
   "source": [
    "### Inflation"
   ]
  },
  {
   "cell_type": "markdown",
   "id": "0b8b0069-a866-4c31-8090-79b3d2df8d4a",
   "metadata": {},
   "source": [
    "(WWW.RIVALUTA.it)"
   ]
  },
  {
   "cell_type": "code",
   "execution_count": 33,
   "id": "0605ddde-d047-4be9-934b-8f14ca466076",
   "metadata": {},
   "outputs": [],
   "source": [
    "df = pd.read_csv(\n",
    "    raw_data_dir / \"datiinflazionemediaitalia.csv\", \n",
    "    sep=\";\",  \n",
    ")"
   ]
  },
  {
   "cell_type": "code",
   "execution_count": 35,
   "id": "f081764c-1472-4bee-8cee-fa5ee200919a",
   "metadata": {},
   "outputs": [],
   "source": [
    "df = df[1:-1]"
   ]
  },
  {
   "cell_type": "code",
   "execution_count": 37,
   "id": "64a8c109-e4a8-47db-8aff-a4977205dabe",
   "metadata": {},
   "outputs": [],
   "source": [
    "df = df.rename(columns={\"WWW.RIVALUTA.it\": \"inflation_rate\"})"
   ]
  },
  {
   "cell_type": "code",
   "execution_count": 38,
   "id": "e4455136-4b12-4993-9be3-516e7d37ff2c",
   "metadata": {},
   "outputs": [],
   "source": [
    "df.reset_index(col_level=0, names=\"year\", inplace=True)"
   ]
  },
  {
   "cell_type": "code",
   "execution_count": 39,
   "id": "8cd6c81a-117f-4300-8bd5-d2adec4c2ebd",
   "metadata": {},
   "outputs": [],
   "source": [
    "df = df.sort_values(\"year\")"
   ]
  },
  {
   "cell_type": "code",
   "execution_count": 42,
   "id": "1d3dee07-8798-44b7-bd0b-d59b0ec05bb3",
   "metadata": {},
   "outputs": [],
   "source": [
    "df[\"year\"] = df[\"year\"].astype(int)"
   ]
  },
  {
   "cell_type": "code",
   "execution_count": 45,
   "id": "6ea8e7b2-28df-4ccb-bd10-150b0315bc75",
   "metadata": {},
   "outputs": [],
   "source": [
    "df = df.loc[df[\"year\"].isin(time_span)]"
   ]
  },
  {
   "cell_type": "code",
   "execution_count": 46,
   "id": "cdea390a-1767-46cb-a7b2-422a1d946155",
   "metadata": {},
   "outputs": [
    {
     "data": {
      "text/html": [
       "<div>\n",
       "<style scoped>\n",
       "    .dataframe tbody tr th:only-of-type {\n",
       "        vertical-align: middle;\n",
       "    }\n",
       "\n",
       "    .dataframe tbody tr th {\n",
       "        vertical-align: top;\n",
       "    }\n",
       "\n",
       "    .dataframe thead th {\n",
       "        text-align: right;\n",
       "    }\n",
       "</style>\n",
       "<table border=\"1\" class=\"dataframe\">\n",
       "  <thead>\n",
       "    <tr style=\"text-align: right;\">\n",
       "      <th></th>\n",
       "      <th>year</th>\n",
       "      <th>inflation_rate</th>\n",
       "    </tr>\n",
       "  </thead>\n",
       "  <tbody>\n",
       "    <tr>\n",
       "      <th>43</th>\n",
       "      <td>1980</td>\n",
       "      <td>21,2%</td>\n",
       "    </tr>\n",
       "    <tr>\n",
       "      <th>42</th>\n",
       "      <td>1981</td>\n",
       "      <td>17,8%</td>\n",
       "    </tr>\n",
       "    <tr>\n",
       "      <th>41</th>\n",
       "      <td>1982</td>\n",
       "      <td>16,5%</td>\n",
       "    </tr>\n",
       "    <tr>\n",
       "      <th>40</th>\n",
       "      <td>1983</td>\n",
       "      <td>14,7%</td>\n",
       "    </tr>\n",
       "    <tr>\n",
       "      <th>39</th>\n",
       "      <td>1984</td>\n",
       "      <td>10,8%</td>\n",
       "    </tr>\n",
       "  </tbody>\n",
       "</table>\n",
       "</div>"
      ],
      "text/plain": [
       "    year inflation_rate\n",
       "43  1980          21,2%\n",
       "42  1981          17,8%\n",
       "41  1982          16,5%\n",
       "40  1983          14,7%\n",
       "39  1984          10,8%"
      ]
     },
     "execution_count": 46,
     "metadata": {},
     "output_type": "execute_result"
    }
   ],
   "source": [
    "df.head()"
   ]
  },
  {
   "cell_type": "code",
   "execution_count": 47,
   "id": "9f729a48-54f9-4793-9581-877d273259f9",
   "metadata": {},
   "outputs": [],
   "source": [
    "df.to_csv(clean_data_dir / \"inflation_rate.csv\", sep=\"\\t\", index=False)"
   ]
  },
  {
   "cell_type": "markdown",
   "id": "12b109e1-4cbd-45b4-aafd-49bb746e5317",
   "metadata": {
    "tags": []
   },
   "source": [
    "### Gdp"
   ]
  },
  {
   "cell_type": "markdown",
   "id": "ef123c6d-17ce-4e4d-ab07-9700607194d8",
   "metadata": {},
   "source": [
    "(Macrotrends)"
   ]
  },
  {
   "cell_type": "code",
   "execution_count": 48,
   "id": "ce464acc-d136-49f6-9bfd-4909ed47c33f",
   "metadata": {},
   "outputs": [],
   "source": [
    "df = pd.read_csv(\n",
    "    raw_data_dir / \"italy-gdp-gross-domestic-product.csv\",\n",
    "    sep=\",\",\n",
    "    usecols=[\"date\", \"GDP ( Billions of US $)\"],\n",
    ")"
   ]
  },
  {
   "cell_type": "code",
   "execution_count": 49,
   "id": "4e661ba1-212c-4d73-b67a-2e55e32ae39c",
   "metadata": {},
   "outputs": [],
   "source": [
    "df = df.rename(columns={\"GDP ( Billions of US $)\": \"gdp\"})"
   ]
  },
  {
   "cell_type": "code",
   "execution_count": 50,
   "id": "cae9378d-9afc-46a2-8b51-cc555669ce95",
   "metadata": {},
   "outputs": [],
   "source": [
    "def date_to_year(date):\n",
    "    date_object = datetime.strptime(date, \"%Y-%m-%d\")\n",
    "    year = date_object.year\n",
    "    return year"
   ]
  },
  {
   "cell_type": "code",
   "execution_count": 51,
   "id": "8d88d45d-0330-475a-8b0f-9c03eb5904bf",
   "metadata": {},
   "outputs": [],
   "source": [
    "df[\"year\"] = df[\"date\"].apply(lambda x: date_to_year(x))\n",
    "df.drop(\"date\", axis=1, inplace=True)"
   ]
  },
  {
   "cell_type": "code",
   "execution_count": 52,
   "id": "ec1ec774-9741-40e2-9b14-604bdfd3469e",
   "metadata": {},
   "outputs": [],
   "source": [
    "df = df[[\"year\", \"gdp\"]]"
   ]
  },
  {
   "cell_type": "code",
   "execution_count": 54,
   "id": "9605ad74-5940-46e1-95f7-c7f723def22b",
   "metadata": {},
   "outputs": [],
   "source": [
    "df = df.loc[df[\"year\"].isin(time_span)]"
   ]
  },
  {
   "cell_type": "code",
   "execution_count": 55,
   "id": "402c1779-104f-4ead-bf61-e1ca08b370e8",
   "metadata": {},
   "outputs": [
    {
     "data": {
      "text/html": [
       "<div>\n",
       "<style scoped>\n",
       "    .dataframe tbody tr th:only-of-type {\n",
       "        vertical-align: middle;\n",
       "    }\n",
       "\n",
       "    .dataframe tbody tr th {\n",
       "        vertical-align: top;\n",
       "    }\n",
       "\n",
       "    .dataframe thead th {\n",
       "        text-align: right;\n",
       "    }\n",
       "</style>\n",
       "<table border=\"1\" class=\"dataframe\">\n",
       "  <thead>\n",
       "    <tr style=\"text-align: right;\">\n",
       "      <th></th>\n",
       "      <th>year</th>\n",
       "      <th>gdp</th>\n",
       "    </tr>\n",
       "  </thead>\n",
       "  <tbody>\n",
       "    <tr>\n",
       "      <th>20</th>\n",
       "      <td>1980</td>\n",
       "      <td>477.256776</td>\n",
       "    </tr>\n",
       "    <tr>\n",
       "      <th>21</th>\n",
       "      <td>1981</td>\n",
       "      <td>430.702851</td>\n",
       "    </tr>\n",
       "    <tr>\n",
       "      <th>22</th>\n",
       "      <td>1982</td>\n",
       "      <td>427.272646</td>\n",
       "    </tr>\n",
       "    <tr>\n",
       "      <th>23</th>\n",
       "      <td>1983</td>\n",
       "      <td>443.042374</td>\n",
       "    </tr>\n",
       "    <tr>\n",
       "      <th>24</th>\n",
       "      <td>1984</td>\n",
       "      <td>437.887689</td>\n",
       "    </tr>\n",
       "  </tbody>\n",
       "</table>\n",
       "</div>"
      ],
      "text/plain": [
       "    year         gdp\n",
       "20  1980  477.256776\n",
       "21  1981  430.702851\n",
       "22  1982  427.272646\n",
       "23  1983  443.042374\n",
       "24  1984  437.887689"
      ]
     },
     "execution_count": 55,
     "metadata": {},
     "output_type": "execute_result"
    }
   ],
   "source": [
    "df.head()"
   ]
  },
  {
   "cell_type": "code",
   "execution_count": 56,
   "id": "53c3733d-804e-4f08-8ed2-fac0ca33698b",
   "metadata": {},
   "outputs": [],
   "source": [
    "df.to_csv(clean_data_dir / \"gdp.csv\", sep=\"\\t\", index=False)"
   ]
  },
  {
   "cell_type": "markdown",
   "id": "ba0b925b-8a2b-4ffa-a65d-1dc032bdd32b",
   "metadata": {},
   "source": [
    "### Output Gap "
   ]
  },
  {
   "cell_type": "markdown",
   "id": "7dea5ae6-2275-45b5-9df6-3f12a777e628",
   "metadata": {},
   "source": [
    "(Nasdaq)"
   ]
  },
  {
   "cell_type": "code",
   "execution_count": 57,
   "id": "2991157b-16b6-4384-9cf1-d6a46a553fff",
   "metadata": {},
   "outputs": [],
   "source": [
    "df = pd.read_csv(\n",
    "    raw_data_dir / \"nasdaq_output_gap.csv\",\n",
    "    sep=\",\",\n",
    ")"
   ]
  },
  {
   "cell_type": "code",
   "execution_count": 58,
   "id": "db2b97a3-b6ef-48f4-b9d6-c892e505bf69",
   "metadata": {},
   "outputs": [],
   "source": [
    "df = df.rename(columns={\"Value\": \"output_gap\"})"
   ]
  },
  {
   "cell_type": "code",
   "execution_count": 59,
   "id": "55606b13-9f69-4b7d-bd0c-64ce897d5322",
   "metadata": {},
   "outputs": [],
   "source": [
    "df[\"year\"] = df[\"Date\"].apply(lambda x: date_to_year(x))\n",
    "df.drop(\"Date\", axis=1, inplace=True)"
   ]
  },
  {
   "cell_type": "code",
   "execution_count": 60,
   "id": "4ca28a19-e821-4570-8aa6-09b7868093ca",
   "metadata": {},
   "outputs": [],
   "source": [
    "df = df[[\"year\", \"output_gap\"]]"
   ]
  },
  {
   "cell_type": "code",
   "execution_count": 61,
   "id": "d45c0641-e41c-4c6b-b402-039a3cd7e525",
   "metadata": {},
   "outputs": [],
   "source": [
    "df = df.sort_values(\"year\")"
   ]
  },
  {
   "cell_type": "code",
   "execution_count": 64,
   "id": "e8427ad1-972a-4166-9747-dd8bf3f662ee",
   "metadata": {},
   "outputs": [],
   "source": [
    "df = df.loc[df[\"year\"].isin(time_span)]"
   ]
  },
  {
   "cell_type": "code",
   "execution_count": 65,
   "id": "bbe8fd9b-7ff2-4181-ad74-d32b554de6f2",
   "metadata": {},
   "outputs": [
    {
     "data": {
      "text/html": [
       "<div>\n",
       "<style scoped>\n",
       "    .dataframe tbody tr th:only-of-type {\n",
       "        vertical-align: middle;\n",
       "    }\n",
       "\n",
       "    .dataframe tbody tr th {\n",
       "        vertical-align: top;\n",
       "    }\n",
       "\n",
       "    .dataframe thead th {\n",
       "        text-align: right;\n",
       "    }\n",
       "</style>\n",
       "<table border=\"1\" class=\"dataframe\">\n",
       "  <thead>\n",
       "    <tr style=\"text-align: right;\">\n",
       "      <th></th>\n",
       "      <th>year</th>\n",
       "      <th>output_gap</th>\n",
       "    </tr>\n",
       "  </thead>\n",
       "  <tbody>\n",
       "    <tr>\n",
       "      <th>44</th>\n",
       "      <td>1980</td>\n",
       "      <td>12.396</td>\n",
       "    </tr>\n",
       "    <tr>\n",
       "      <th>43</th>\n",
       "      <td>1981</td>\n",
       "      <td>-0.922</td>\n",
       "    </tr>\n",
       "    <tr>\n",
       "      <th>42</th>\n",
       "      <td>1982</td>\n",
       "      <td>-2.350</td>\n",
       "    </tr>\n",
       "    <tr>\n",
       "      <th>41</th>\n",
       "      <td>1983</td>\n",
       "      <td>-3.552</td>\n",
       "    </tr>\n",
       "    <tr>\n",
       "      <th>40</th>\n",
       "      <td>1984</td>\n",
       "      <td>-2.860</td>\n",
       "    </tr>\n",
       "  </tbody>\n",
       "</table>\n",
       "</div>"
      ],
      "text/plain": [
       "    year  output_gap\n",
       "44  1980      12.396\n",
       "43  1981      -0.922\n",
       "42  1982      -2.350\n",
       "41  1983      -3.552\n",
       "40  1984      -2.860"
      ]
     },
     "execution_count": 65,
     "metadata": {},
     "output_type": "execute_result"
    }
   ],
   "source": [
    "df.head()"
   ]
  },
  {
   "cell_type": "code",
   "execution_count": 66,
   "id": "3ebae70f-c73e-4aed-83ff-8704419fe81e",
   "metadata": {},
   "outputs": [],
   "source": [
    "df.to_csv(clean_data_dir / \"output_gap.csv\", sep=\"\\t\", index=False)"
   ]
  },
  {
   "cell_type": "markdown",
   "id": "17e4fa8f-a7b7-4958-ae36-16935c3ae04f",
   "metadata": {},
   "source": [
    "# Additional Regressors"
   ]
  },
  {
   "cell_type": "markdown",
   "id": "a63c0e1a-aac7-4b94-b009-97f2b5205f34",
   "metadata": {},
   "source": [
    "### Unemployment"
   ]
  },
  {
   "cell_type": "markdown",
   "id": "5e20b2ec-29bf-40c2-8e7e-4aa32424770a",
   "metadata": {},
   "source": [
    "(FRED)"
   ]
  },
  {
   "cell_type": "code",
   "execution_count": 67,
   "id": "ef4d0dcf-6543-46ea-a8c2-4f21054d26b6",
   "metadata": {},
   "outputs": [],
   "source": [
    "df = pd.read_csv(\n",
    "    raw_data_dir / \"LRHUTTTTITA156S.csv\",\n",
    "    sep=\",\",\n",
    ")"
   ]
  },
  {
   "cell_type": "code",
   "execution_count": 68,
   "id": "0aae3ef2-0ad9-4b90-82f1-652f869ce6b8",
   "metadata": {},
   "outputs": [],
   "source": [
    "df = df.rename(columns={\"DATE\": \"year\", \"LRHUTTTTITA156S\": \"unemployment_rate\"})"
   ]
  },
  {
   "cell_type": "code",
   "execution_count": 70,
   "id": "e4f6cad3-8fff-4738-9afb-e26a7964e381",
   "metadata": {},
   "outputs": [],
   "source": [
    "df[\"year\"] = df[\"year\"].apply(lambda x: date_to_year(x))"
   ]
  },
  {
   "cell_type": "code",
   "execution_count": 73,
   "id": "47b4d42e-cdbb-4c04-a79f-272cb3b67165",
   "metadata": {},
   "outputs": [],
   "source": [
    "df = df.loc[df[\"year\"].isin(time_span)]"
   ]
  },
  {
   "cell_type": "code",
   "execution_count": 74,
   "id": "46067dc0-dd24-48a5-949b-f14950a030e3",
   "metadata": {},
   "outputs": [
    {
     "data": {
      "text/html": [
       "<div>\n",
       "<style scoped>\n",
       "    .dataframe tbody tr th:only-of-type {\n",
       "        vertical-align: middle;\n",
       "    }\n",
       "\n",
       "    .dataframe tbody tr th {\n",
       "        vertical-align: top;\n",
       "    }\n",
       "\n",
       "    .dataframe thead th {\n",
       "        text-align: right;\n",
       "    }\n",
       "</style>\n",
       "<table border=\"1\" class=\"dataframe\">\n",
       "  <thead>\n",
       "    <tr style=\"text-align: right;\">\n",
       "      <th></th>\n",
       "      <th>year</th>\n",
       "      <th>unemployment_rate</th>\n",
       "    </tr>\n",
       "  </thead>\n",
       "  <tbody>\n",
       "    <tr>\n",
       "      <th>0</th>\n",
       "      <td>1982</td>\n",
       "      <td>7.166667</td>\n",
       "    </tr>\n",
       "    <tr>\n",
       "      <th>1</th>\n",
       "      <td>1983</td>\n",
       "      <td>7.366667</td>\n",
       "    </tr>\n",
       "    <tr>\n",
       "      <th>2</th>\n",
       "      <td>1984</td>\n",
       "      <td>7.833333</td>\n",
       "    </tr>\n",
       "    <tr>\n",
       "      <th>3</th>\n",
       "      <td>1985</td>\n",
       "      <td>8.141667</td>\n",
       "    </tr>\n",
       "    <tr>\n",
       "      <th>4</th>\n",
       "      <td>1986</td>\n",
       "      <td>8.883333</td>\n",
       "    </tr>\n",
       "  </tbody>\n",
       "</table>\n",
       "</div>"
      ],
      "text/plain": [
       "   year  unemployment_rate\n",
       "0  1982           7.166667\n",
       "1  1983           7.366667\n",
       "2  1984           7.833333\n",
       "3  1985           8.141667\n",
       "4  1986           8.883333"
      ]
     },
     "execution_count": 74,
     "metadata": {},
     "output_type": "execute_result"
    }
   ],
   "source": [
    "df.head()"
   ]
  },
  {
   "cell_type": "code",
   "execution_count": 75,
   "id": "69d28dce-8381-49cb-8de5-b2c65687bd93",
   "metadata": {},
   "outputs": [],
   "source": [
    "df.to_csv(clean_data_dir / \"unemployment_rate.csv\", sep=\"\\t\", index=False)"
   ]
  },
  {
   "cell_type": "markdown",
   "id": "2bb1eb4b-019b-4eab-9b8c-124c4dee12db",
   "metadata": {},
   "source": [
    "### Exchange Rate"
   ]
  },
  {
   "cell_type": "code",
   "execution_count": 104,
   "id": "00c04798-66a1-4d75-ae0a-74c1f5b354b6",
   "metadata": {},
   "outputs": [],
   "source": [
    "df = pd.read_csv(\n",
    "    raw_data_dir / \"USD_serie_storica_giornaliera .csv\",\n",
    "    sep=\",\",\n",
    "    usecols=[\"Data di Riferimento\", \"Quotazione\"]\n",
    ")"
   ]
  },
  {
   "cell_type": "code",
   "execution_count": 105,
   "id": "bab0cdfe-e346-421b-ae9e-1f6921c2ae20",
   "metadata": {},
   "outputs": [],
   "source": [
    "df = df.rename(columns={\"Data di Riferimento\": \"year\", \"Quotazione\": \"exchange_rate\"})"
   ]
  },
  {
   "cell_type": "code",
   "execution_count": 107,
   "id": "10d1dc29-1b40-4c4f-bb53-ae11c0d72158",
   "metadata": {},
   "outputs": [],
   "source": [
    "df = df.sort_values(\"year\")"
   ]
  },
  {
   "cell_type": "code",
   "execution_count": 108,
   "id": "c6b5f2ee-8c25-45ad-a6a0-645dc070eaf6",
   "metadata": {},
   "outputs": [],
   "source": [
    "df[\"year\"] = df[\"year\"].apply(lambda x: date_to_year(x))"
   ]
  },
  {
   "cell_type": "code",
   "execution_count": 111,
   "id": "4c1012d5-4ab0-4dcf-941f-dfb833127559",
   "metadata": {},
   "outputs": [],
   "source": [
    "df = df.drop_duplicates(keep='last')"
   ]
  },
  {
   "cell_type": "code",
   "execution_count": 113,
   "id": "c53f279d-b52e-45b3-9acf-abc7846f00e6",
   "metadata": {},
   "outputs": [],
   "source": [
    "df = df.loc[df[\"year\"].isin(time_span)]"
   ]
  },
  {
   "cell_type": "code",
   "execution_count": 114,
   "id": "5b7ac406-3718-48a0-8394-b069a9390dd6",
   "metadata": {},
   "outputs": [
    {
     "data": {
      "text/html": [
       "<div>\n",
       "<style scoped>\n",
       "    .dataframe tbody tr th:only-of-type {\n",
       "        vertical-align: middle;\n",
       "    }\n",
       "\n",
       "    .dataframe tbody tr th {\n",
       "        vertical-align: top;\n",
       "    }\n",
       "\n",
       "    .dataframe thead th {\n",
       "        text-align: right;\n",
       "    }\n",
       "</style>\n",
       "<table border=\"1\" class=\"dataframe\">\n",
       "  <thead>\n",
       "    <tr style=\"text-align: right;\">\n",
       "      <th></th>\n",
       "      <th>year</th>\n",
       "      <th>exchange_rate</th>\n",
       "    </tr>\n",
       "  </thead>\n",
       "  <tbody>\n",
       "    <tr>\n",
       "      <th>0</th>\n",
       "      <td>1980</td>\n",
       "      <td>801.25</td>\n",
       "    </tr>\n",
       "    <tr>\n",
       "      <th>1</th>\n",
       "      <td>1980</td>\n",
       "      <td>799.50</td>\n",
       "    </tr>\n",
       "    <tr>\n",
       "      <th>2</th>\n",
       "      <td>1980</td>\n",
       "      <td>803.00</td>\n",
       "    </tr>\n",
       "    <tr>\n",
       "      <th>4</th>\n",
       "      <td>1980</td>\n",
       "      <td>803.50</td>\n",
       "    </tr>\n",
       "    <tr>\n",
       "      <th>5</th>\n",
       "      <td>1980</td>\n",
       "      <td>801.00</td>\n",
       "    </tr>\n",
       "  </tbody>\n",
       "</table>\n",
       "</div>"
      ],
      "text/plain": [
       "   year  exchange_rate\n",
       "0  1980         801.25\n",
       "1  1980         799.50\n",
       "2  1980         803.00\n",
       "4  1980         803.50\n",
       "5  1980         801.00"
      ]
     },
     "execution_count": 114,
     "metadata": {},
     "output_type": "execute_result"
    }
   ],
   "source": [
    "df.head()"
   ]
  },
  {
   "cell_type": "code",
   "execution_count": 115,
   "id": "02b90dd6-7109-42bc-829a-3ec00c85dc0a",
   "metadata": {},
   "outputs": [],
   "source": [
    "df.to_csv(clean_data_dir / \"exchange_rate.csv\", sep=\"\\t\", index=False)"
   ]
  },
  {
   "cell_type": "markdown",
   "id": "dfba8411-ce83-44b4-adab-e5924e778e09",
   "metadata": {},
   "source": [
    "### Foreign Interest Rate"
   ]
  },
  {
   "cell_type": "code",
   "execution_count": 77,
   "id": "bdeceba5-d081-4bf1-830c-9ef5404e5213",
   "metadata": {},
   "outputs": [],
   "source": [
    "df = pd.read_csv(\n",
    "    raw_data_dir / \"US10y_bond.csv\",\n",
    "    sep=\",\",\n",
    ")"
   ]
  },
  {
   "cell_type": "code",
   "execution_count": 83,
   "id": "c70c19bb-8368-4fb7-85e6-be8d1a4866b2",
   "metadata": {},
   "outputs": [],
   "source": [
    "df = df.rename(columns={\"YEAR\": \"year\", \"Value\": \"US_interest_rate\"})"
   ]
  },
  {
   "cell_type": "code",
   "execution_count": 84,
   "id": "467ba15f-3b8d-4e96-a195-c180e8747d16",
   "metadata": {},
   "outputs": [],
   "source": [
    "df = df.loc[df[\"year\"].isin(time_span)]"
   ]
  },
  {
   "cell_type": "code",
   "execution_count": 85,
   "id": "1328cdf2-912a-4924-bd30-bf34272aaba8",
   "metadata": {},
   "outputs": [
    {
     "data": {
      "text/html": [
       "<div>\n",
       "<style scoped>\n",
       "    .dataframe tbody tr th:only-of-type {\n",
       "        vertical-align: middle;\n",
       "    }\n",
       "\n",
       "    .dataframe tbody tr th {\n",
       "        vertical-align: top;\n",
       "    }\n",
       "\n",
       "    .dataframe thead th {\n",
       "        text-align: right;\n",
       "    }\n",
       "</style>\n",
       "<table border=\"1\" class=\"dataframe\">\n",
       "  <thead>\n",
       "    <tr style=\"text-align: right;\">\n",
       "      <th></th>\n",
       "      <th>year</th>\n",
       "      <th>US_interest_rate</th>\n",
       "    </tr>\n",
       "  </thead>\n",
       "  <tbody>\n",
       "    <tr>\n",
       "      <th>20</th>\n",
       "      <td>1980</td>\n",
       "      <td>11.460000</td>\n",
       "    </tr>\n",
       "    <tr>\n",
       "      <th>21</th>\n",
       "      <td>1981</td>\n",
       "      <td>13.910833</td>\n",
       "    </tr>\n",
       "    <tr>\n",
       "      <th>22</th>\n",
       "      <td>1982</td>\n",
       "      <td>13.001667</td>\n",
       "    </tr>\n",
       "    <tr>\n",
       "      <th>23</th>\n",
       "      <td>1983</td>\n",
       "      <td>11.105000</td>\n",
       "    </tr>\n",
       "    <tr>\n",
       "      <th>24</th>\n",
       "      <td>1984</td>\n",
       "      <td>12.438333</td>\n",
       "    </tr>\n",
       "  </tbody>\n",
       "</table>\n",
       "</div>"
      ],
      "text/plain": [
       "    year  US_interest_rate\n",
       "20  1980         11.460000\n",
       "21  1981         13.910833\n",
       "22  1982         13.001667\n",
       "23  1983         11.105000\n",
       "24  1984         12.438333"
      ]
     },
     "execution_count": 85,
     "metadata": {},
     "output_type": "execute_result"
    }
   ],
   "source": [
    "df.head()"
   ]
  },
  {
   "cell_type": "code",
   "execution_count": 30,
   "id": "76222547-e21d-44bd-ad0a-9d84ad20bc6e",
   "metadata": {},
   "outputs": [],
   "source": [
    "df.to_csv(clean_data_dir / \"us_bond_yield.csv\", sep=\"\\t\", index=False)"
   ]
  },
  {
   "cell_type": "code",
   "execution_count": null,
   "id": "90aad9bd-bef1-4ada-9e9b-f11b519c87f1",
   "metadata": {},
   "outputs": [],
   "source": []
  }
 ],
 "metadata": {
  "kernelspec": {
   "display_name": "Python 3 (ipykernel)",
   "language": "python",
   "name": "python3"
  },
  "language_info": {
   "codemirror_mode": {
    "name": "ipython",
    "version": 3
   },
   "file_extension": ".py",
   "mimetype": "text/x-python",
   "name": "python",
   "nbconvert_exporter": "python",
   "pygments_lexer": "ipython3",
   "version": "3.11.0"
  }
 },
 "nbformat": 4,
 "nbformat_minor": 5
}
