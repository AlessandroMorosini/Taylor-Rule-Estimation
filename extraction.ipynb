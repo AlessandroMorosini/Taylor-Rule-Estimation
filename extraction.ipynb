{
 "cells": [
  {
   "cell_type": "code",
   "execution_count": 33,
   "id": "03f70b73-6d74-492c-a0be-aee7c69a09b2",
   "metadata": {},
   "outputs": [],
   "source": [
    "import pandas as pd\n",
    "from pathlib import Path\n",
    "from datetime import datetime\n",
    "import matplotlib.pyplot as plt"
   ]
  },
  {
   "cell_type": "code",
   "execution_count": 3,
   "id": "2e11be1a-8bc0-476b-9b24-15396c16feab",
   "metadata": {},
   "outputs": [],
   "source": [
    "raw_data_dir = Path.cwd() / \"data\" / \"raw\"\n",
    "clean_data_dir = Path.cwd() / \"data\" / \"clean\""
   ]
  },
  {
   "cell_type": "markdown",
   "id": "e65c41fb-fab8-4b86-aef4-437c03507baa",
   "metadata": {},
   "source": [
    "# Taylor Rule"
   ]
  },
  {
   "cell_type": "code",
   "execution_count": 4,
   "id": "bedeb645-93f6-45d0-b5dd-00d84532f11c",
   "metadata": {},
   "outputs": [],
   "source": [
    "time_span = [year for year in range(1980, 2003)]"
   ]
  },
  {
   "cell_type": "markdown",
   "id": "8e0325f8-7490-41f5-a46b-cd5df806e2d2",
   "metadata": {},
   "source": [
    "### Interest Rates"
   ]
  },
  {
   "cell_type": "markdown",
   "id": "302ff58b-8f71-4a72-aebd-62dd88e7afd0",
   "metadata": {},
   "source": [
    "(OECD)"
   ]
  },
  {
   "cell_type": "code",
   "execution_count": 5,
   "id": "b3e65eee-0756-4f65-8a9b-7cff135c2992",
   "metadata": {},
   "outputs": [],
   "source": [
    "df = pd.read_csv(\n",
    "    raw_data_dir / \"ST_interestrate_1980-2002.csv\",\n",
    "    sep=\";\",  \n",
    ")"
   ]
  },
  {
   "cell_type": "code",
   "execution_count": 6,
   "id": "1bb19fb0-7319-476c-8317-9d4059af7760",
   "metadata": {},
   "outputs": [],
   "source": [
    "df = df.rename(columns={\"Year\": \"year\", \"Interest Rate\": \"interest_rate\"})"
   ]
  },
  {
   "cell_type": "code",
   "execution_count": 7,
   "id": "801bf653-5ddd-49e0-9421-253dd7df4c75",
   "metadata": {},
   "outputs": [],
   "source": [
    "df = df.loc[df[\"year\"].isin(time_span)]"
   ]
  },
  {
   "cell_type": "code",
   "execution_count": 8,
   "id": "6df14172-8379-4d78-b9ab-b3a43bffbdf0",
   "metadata": {},
   "outputs": [],
   "source": [
    "df[\"interest_rate\"] = df[\"interest_rate\"].apply(lambda x: x.replace(\",\", \".\")).astype(float)"
   ]
  },
  {
   "cell_type": "code",
   "execution_count": 9,
   "id": "420e1bcd-3615-47cc-abed-fdeba93d5c9f",
   "metadata": {},
   "outputs": [],
   "source": [
    "df.to_csv(clean_data_dir / \"interest_rate.csv\", sep=\"\\t\", index=False)"
   ]
  },
  {
   "cell_type": "markdown",
   "id": "4d009384-2431-46f7-9794-30f2ffa1ea67",
   "metadata": {},
   "source": [
    "### Inflation"
   ]
  },
  {
   "cell_type": "markdown",
   "id": "0b8b0069-a866-4c31-8090-79b3d2df8d4a",
   "metadata": {},
   "source": [
    "(WWW.RIVALUTA.it)"
   ]
  },
  {
   "cell_type": "code",
   "execution_count": 121,
   "id": "0605ddde-d047-4be9-934b-8f14ca466076",
   "metadata": {},
   "outputs": [],
   "source": [
    "df = pd.read_csv(\n",
    "    raw_data_dir / \"datiinflazionemediaitalia.csv\", \n",
    "    sep=\";\",  \n",
    ")"
   ]
  },
  {
   "cell_type": "code",
   "execution_count": 122,
   "id": "f081764c-1472-4bee-8cee-fa5ee200919a",
   "metadata": {},
   "outputs": [],
   "source": [
    "df = df[1:-1]"
   ]
  },
  {
   "cell_type": "code",
   "execution_count": 123,
   "id": "64a8c109-e4a8-47db-8aff-a4977205dabe",
   "metadata": {},
   "outputs": [],
   "source": [
    "df = df.rename(columns={\"WWW.RIVALUTA.it\": \"inflation_rate\"})"
   ]
  },
  {
   "cell_type": "code",
   "execution_count": 124,
   "id": "e4455136-4b12-4993-9be3-516e7d37ff2c",
   "metadata": {},
   "outputs": [],
   "source": [
    "df.reset_index(col_level=0, names=\"year\", inplace=True)"
   ]
  },
  {
   "cell_type": "code",
   "execution_count": 125,
   "id": "8cd6c81a-117f-4300-8bd5-d2adec4c2ebd",
   "metadata": {},
   "outputs": [],
   "source": [
    "df = df.sort_values(\"year\")"
   ]
  },
  {
   "cell_type": "code",
   "execution_count": 126,
   "id": "1d3dee07-8798-44b7-bd0b-d59b0ec05bb3",
   "metadata": {},
   "outputs": [],
   "source": [
    "df[\"year\"] = df[\"year\"].astype(int)"
   ]
  },
  {
   "cell_type": "code",
   "execution_count": 127,
   "id": "6ea8e7b2-28df-4ccb-bd10-150b0315bc75",
   "metadata": {},
   "outputs": [],
   "source": [
    "df = df.loc[df[\"year\"].isin(time_span)]"
   ]
  },
  {
   "cell_type": "code",
   "execution_count": 128,
   "id": "6bb7546a-d165-4e33-ac2a-427851594bfd",
   "metadata": {},
   "outputs": [],
   "source": [
    "df[\"inflation_rate\"] = df[\"inflation_rate\"].apply(\n",
    "    lambda x: float(x.replace(\",\", \".\").strip(\"%\")) / 100.0\n",
    ")"
   ]
  },
  {
   "cell_type": "code",
   "execution_count": 129,
   "id": "cdea390a-1767-46cb-a7b2-422a1d946155",
   "metadata": {},
   "outputs": [
    {
     "data": {
      "text/html": [
       "<div>\n",
       "<style scoped>\n",
       "    .dataframe tbody tr th:only-of-type {\n",
       "        vertical-align: middle;\n",
       "    }\n",
       "\n",
       "    .dataframe tbody tr th {\n",
       "        vertical-align: top;\n",
       "    }\n",
       "\n",
       "    .dataframe thead th {\n",
       "        text-align: right;\n",
       "    }\n",
       "</style>\n",
       "<table border=\"1\" class=\"dataframe\">\n",
       "  <thead>\n",
       "    <tr style=\"text-align: right;\">\n",
       "      <th></th>\n",
       "      <th>year</th>\n",
       "      <th>inflation_rate</th>\n",
       "    </tr>\n",
       "  </thead>\n",
       "  <tbody>\n",
       "    <tr>\n",
       "      <th>43</th>\n",
       "      <td>1980</td>\n",
       "      <td>0.212</td>\n",
       "    </tr>\n",
       "    <tr>\n",
       "      <th>42</th>\n",
       "      <td>1981</td>\n",
       "      <td>0.178</td>\n",
       "    </tr>\n",
       "    <tr>\n",
       "      <th>41</th>\n",
       "      <td>1982</td>\n",
       "      <td>0.165</td>\n",
       "    </tr>\n",
       "    <tr>\n",
       "      <th>40</th>\n",
       "      <td>1983</td>\n",
       "      <td>0.147</td>\n",
       "    </tr>\n",
       "    <tr>\n",
       "      <th>39</th>\n",
       "      <td>1984</td>\n",
       "      <td>0.108</td>\n",
       "    </tr>\n",
       "    <tr>\n",
       "      <th>38</th>\n",
       "      <td>1985</td>\n",
       "      <td>0.092</td>\n",
       "    </tr>\n",
       "    <tr>\n",
       "      <th>37</th>\n",
       "      <td>1986</td>\n",
       "      <td>0.058</td>\n",
       "    </tr>\n",
       "    <tr>\n",
       "      <th>36</th>\n",
       "      <td>1987</td>\n",
       "      <td>0.048</td>\n",
       "    </tr>\n",
       "    <tr>\n",
       "      <th>35</th>\n",
       "      <td>1988</td>\n",
       "      <td>0.050</td>\n",
       "    </tr>\n",
       "    <tr>\n",
       "      <th>34</th>\n",
       "      <td>1989</td>\n",
       "      <td>0.063</td>\n",
       "    </tr>\n",
       "    <tr>\n",
       "      <th>33</th>\n",
       "      <td>1990</td>\n",
       "      <td>0.065</td>\n",
       "    </tr>\n",
       "    <tr>\n",
       "      <th>32</th>\n",
       "      <td>1991</td>\n",
       "      <td>0.062</td>\n",
       "    </tr>\n",
       "    <tr>\n",
       "      <th>31</th>\n",
       "      <td>1992</td>\n",
       "      <td>0.053</td>\n",
       "    </tr>\n",
       "    <tr>\n",
       "      <th>30</th>\n",
       "      <td>1993</td>\n",
       "      <td>0.047</td>\n",
       "    </tr>\n",
       "    <tr>\n",
       "      <th>29</th>\n",
       "      <td>1994</td>\n",
       "      <td>0.041</td>\n",
       "    </tr>\n",
       "    <tr>\n",
       "      <th>28</th>\n",
       "      <td>1995</td>\n",
       "      <td>0.053</td>\n",
       "    </tr>\n",
       "    <tr>\n",
       "      <th>27</th>\n",
       "      <td>1996</td>\n",
       "      <td>0.040</td>\n",
       "    </tr>\n",
       "    <tr>\n",
       "      <th>26</th>\n",
       "      <td>1997</td>\n",
       "      <td>0.020</td>\n",
       "    </tr>\n",
       "    <tr>\n",
       "      <th>25</th>\n",
       "      <td>1998</td>\n",
       "      <td>0.020</td>\n",
       "    </tr>\n",
       "    <tr>\n",
       "      <th>24</th>\n",
       "      <td>1999</td>\n",
       "      <td>0.017</td>\n",
       "    </tr>\n",
       "    <tr>\n",
       "      <th>23</th>\n",
       "      <td>2000</td>\n",
       "      <td>0.025</td>\n",
       "    </tr>\n",
       "    <tr>\n",
       "      <th>22</th>\n",
       "      <td>2001</td>\n",
       "      <td>0.027</td>\n",
       "    </tr>\n",
       "    <tr>\n",
       "      <th>21</th>\n",
       "      <td>2002</td>\n",
       "      <td>0.025</td>\n",
       "    </tr>\n",
       "  </tbody>\n",
       "</table>\n",
       "</div>"
      ],
      "text/plain": [
       "    year  inflation_rate\n",
       "43  1980           0.212\n",
       "42  1981           0.178\n",
       "41  1982           0.165\n",
       "40  1983           0.147\n",
       "39  1984           0.108\n",
       "38  1985           0.092\n",
       "37  1986           0.058\n",
       "36  1987           0.048\n",
       "35  1988           0.050\n",
       "34  1989           0.063\n",
       "33  1990           0.065\n",
       "32  1991           0.062\n",
       "31  1992           0.053\n",
       "30  1993           0.047\n",
       "29  1994           0.041\n",
       "28  1995           0.053\n",
       "27  1996           0.040\n",
       "26  1997           0.020\n",
       "25  1998           0.020\n",
       "24  1999           0.017\n",
       "23  2000           0.025\n",
       "22  2001           0.027\n",
       "21  2002           0.025"
      ]
     },
     "execution_count": 129,
     "metadata": {},
     "output_type": "execute_result"
    }
   ],
   "source": [
    "df"
   ]
  },
  {
   "cell_type": "code",
   "execution_count": 19,
   "id": "9f729a48-54f9-4793-9581-877d273259f9",
   "metadata": {},
   "outputs": [],
   "source": [
    "df.to_csv(clean_data_dir / \"inflation_rate.csv\", sep=\"\\t\", index=False)"
   ]
  },
  {
   "cell_type": "markdown",
   "id": "835c965c-b239-434c-aa11-9f310de7c3de",
   "metadata": {},
   "source": [
    "### Inflation Target"
   ]
  },
  {
   "cell_type": "markdown",
   "id": "2ef45c0d-afb9-48da-9ea0-fc0d550da9b4",
   "metadata": {},
   "source": [
    "(approximation reading papers)"
   ]
  },
  {
   "cell_type": "markdown",
   "id": "55321861-9e74-4f42-91ac-6dba79c18e54",
   "metadata": {},
   "source": [
    "The idea of targeting inflation has developed in the early 2000's once the ECB was introduced. \n",
    "Therefore, no clear-cut data was found. However, we know that the Italy was aiming at an inflation of about 5-7 % in the early 80's which started decerasing during the course of the years down to the iconic 2 %. \n",
    "\n",
    "Down here is the data estimated by Mario Sarcinelli."
   ]
  },
  {
   "cell_type": "code",
   "execution_count": 133,
   "id": "97bbe456-aefd-4875-bad5-8342adc1e227",
   "metadata": {},
   "outputs": [],
   "source": [
    "years = list(range(1980, 2003))\n",
    "\n",
    "inflation_target = [12, 11.5, 10.5, 10, 10, 7, 6, 4, 4.5, 4, 4.5, 5, 4.5, 4.5, 3.5, 4.7, 4., 3, 2, 2, 2, 2, 2]\n",
    "\n",
    "df = pd.DataFrame({'year': years, 'inflation_target': inflation_target})\n",
    "\n",
    "df.to_csv(clean_data_dir / \"inflation_target.csv\", sep=\"\\t\", index=False)"
   ]
  },
  {
   "cell_type": "markdown",
   "id": "12b109e1-4cbd-45b4-aafd-49bb746e5317",
   "metadata": {
    "tags": []
   },
   "source": [
    "### Gdp"
   ]
  },
  {
   "cell_type": "markdown",
   "id": "ef123c6d-17ce-4e4d-ab07-9700607194d8",
   "metadata": {},
   "source": [
    "(Macrotrends)"
   ]
  },
  {
   "cell_type": "code",
   "execution_count": 20,
   "id": "ce464acc-d136-49f6-9bfd-4909ed47c33f",
   "metadata": {},
   "outputs": [],
   "source": [
    "df = pd.read_csv(\n",
    "    raw_data_dir / \"italy-gdp-gross-domestic-product.csv\",\n",
    "    sep=\",\",\n",
    "    usecols=[\"date\", \"GDP ( Billions of US $)\"],\n",
    ")"
   ]
  },
  {
   "cell_type": "code",
   "execution_count": 21,
   "id": "4e661ba1-212c-4d73-b67a-2e55e32ae39c",
   "metadata": {},
   "outputs": [],
   "source": [
    "df = df.rename(columns={\"GDP ( Billions of US $)\": \"gdp\"})"
   ]
  },
  {
   "cell_type": "code",
   "execution_count": 22,
   "id": "cae9378d-9afc-46a2-8b51-cc555669ce95",
   "metadata": {},
   "outputs": [],
   "source": [
    "def date_to_year(date):\n",
    "    date_object = datetime.strptime(date, \"%Y-%m-%d\")\n",
    "    year = date_object.year\n",
    "    return year"
   ]
  },
  {
   "cell_type": "code",
   "execution_count": 23,
   "id": "8d88d45d-0330-475a-8b0f-9c03eb5904bf",
   "metadata": {},
   "outputs": [],
   "source": [
    "df[\"year\"] = df[\"date\"].apply(lambda x: date_to_year(x))\n",
    "df.drop(\"date\", axis=1, inplace=True)"
   ]
  },
  {
   "cell_type": "code",
   "execution_count": 24,
   "id": "ec1ec774-9741-40e2-9b14-604bdfd3469e",
   "metadata": {},
   "outputs": [],
   "source": [
    "df = df[[\"year\", \"gdp\"]]"
   ]
  },
  {
   "cell_type": "code",
   "execution_count": 25,
   "id": "9605ad74-5940-46e1-95f7-c7f723def22b",
   "metadata": {},
   "outputs": [],
   "source": [
    "df = df.loc[df[\"year\"].isin(time_span)]"
   ]
  },
  {
   "cell_type": "code",
   "execution_count": 26,
   "id": "402c1779-104f-4ead-bf61-e1ca08b370e8",
   "metadata": {},
   "outputs": [
    {
     "data": {
      "text/html": [
       "<div>\n",
       "<style scoped>\n",
       "    .dataframe tbody tr th:only-of-type {\n",
       "        vertical-align: middle;\n",
       "    }\n",
       "\n",
       "    .dataframe tbody tr th {\n",
       "        vertical-align: top;\n",
       "    }\n",
       "\n",
       "    .dataframe thead th {\n",
       "        text-align: right;\n",
       "    }\n",
       "</style>\n",
       "<table border=\"1\" class=\"dataframe\">\n",
       "  <thead>\n",
       "    <tr style=\"text-align: right;\">\n",
       "      <th></th>\n",
       "      <th>year</th>\n",
       "      <th>gdp</th>\n",
       "    </tr>\n",
       "  </thead>\n",
       "  <tbody>\n",
       "    <tr>\n",
       "      <th>20</th>\n",
       "      <td>1980</td>\n",
       "      <td>477.256776</td>\n",
       "    </tr>\n",
       "    <tr>\n",
       "      <th>21</th>\n",
       "      <td>1981</td>\n",
       "      <td>430.702851</td>\n",
       "    </tr>\n",
       "    <tr>\n",
       "      <th>22</th>\n",
       "      <td>1982</td>\n",
       "      <td>427.272646</td>\n",
       "    </tr>\n",
       "    <tr>\n",
       "      <th>23</th>\n",
       "      <td>1983</td>\n",
       "      <td>443.042374</td>\n",
       "    </tr>\n",
       "    <tr>\n",
       "      <th>24</th>\n",
       "      <td>1984</td>\n",
       "      <td>437.887689</td>\n",
       "    </tr>\n",
       "  </tbody>\n",
       "</table>\n",
       "</div>"
      ],
      "text/plain": [
       "    year         gdp\n",
       "20  1980  477.256776\n",
       "21  1981  430.702851\n",
       "22  1982  427.272646\n",
       "23  1983  443.042374\n",
       "24  1984  437.887689"
      ]
     },
     "execution_count": 26,
     "metadata": {},
     "output_type": "execute_result"
    }
   ],
   "source": [
    "df.head()"
   ]
  },
  {
   "cell_type": "code",
   "execution_count": 27,
   "id": "53c3733d-804e-4f08-8ed2-fac0ca33698b",
   "metadata": {},
   "outputs": [],
   "source": [
    "df.to_csv(clean_data_dir / \"gdp.csv\", sep=\"\\t\", index=False)"
   ]
  },
  {
   "cell_type": "markdown",
   "id": "ba0b925b-8a2b-4ffa-a65d-1dc032bdd32b",
   "metadata": {},
   "source": [
    "### Output Gap "
   ]
  },
  {
   "cell_type": "markdown",
   "id": "7dea5ae6-2275-45b5-9df6-3f12a777e628",
   "metadata": {},
   "source": [
    "(OECD, Nasdaq)"
   ]
  },
  {
   "cell_type": "code",
   "execution_count": 87,
   "id": "2991157b-16b6-4384-9cf1-d6a46a553fff",
   "metadata": {},
   "outputs": [],
   "source": [
    "# work on oecd\n",
    "df_oecd = pd.read_csv(\n",
    "    raw_data_dir / \"EO108_INTERNET_27032023112456648.csv\",\n",
    "    sep=\",\",\n",
    "    usecols=[\"Value\", \"Time\"]\n",
    ")\n",
    "\n",
    "# fill gaps with nasdaq\n",
    "df_nasdaq = pd.read_csv(\n",
    "    raw_data_dir / \"nasdaq_output_gap.csv\",\n",
    "    sep=\",\",\n",
    ")"
   ]
  },
  {
   "cell_type": "code",
   "execution_count": 88,
   "id": "afa6c7e9-2496-4e6b-9add-10b3124387cb",
   "metadata": {},
   "outputs": [],
   "source": [
    "df_oecd = df_oecd.rename(columns={\"Time\": \"year\", \"Value\": \"output_gap\"})"
   ]
  },
  {
   "cell_type": "code",
   "execution_count": 89,
   "id": "0cace3b2-55b5-418b-8640-ab4a1ae1d8f9",
   "metadata": {},
   "outputs": [
    {
     "data": {
      "text/html": [
       "<div>\n",
       "<style scoped>\n",
       "    .dataframe tbody tr th:only-of-type {\n",
       "        vertical-align: middle;\n",
       "    }\n",
       "\n",
       "    .dataframe tbody tr th {\n",
       "        vertical-align: top;\n",
       "    }\n",
       "\n",
       "    .dataframe thead th {\n",
       "        text-align: right;\n",
       "    }\n",
       "</style>\n",
       "<table border=\"1\" class=\"dataframe\">\n",
       "  <thead>\n",
       "    <tr style=\"text-align: right;\">\n",
       "      <th></th>\n",
       "      <th>year</th>\n",
       "      <th>output_gap</th>\n",
       "    </tr>\n",
       "  </thead>\n",
       "  <tbody>\n",
       "    <tr>\n",
       "      <th>0</th>\n",
       "      <td>1985</td>\n",
       "      <td>-2.239437</td>\n",
       "    </tr>\n",
       "    <tr>\n",
       "      <th>1</th>\n",
       "      <td>1986</td>\n",
       "      <td>-1.493276</td>\n",
       "    </tr>\n",
       "    <tr>\n",
       "      <th>2</th>\n",
       "      <td>1987</td>\n",
       "      <td>-0.898263</td>\n",
       "    </tr>\n",
       "    <tr>\n",
       "      <th>3</th>\n",
       "      <td>1988</td>\n",
       "      <td>0.883434</td>\n",
       "    </tr>\n",
       "    <tr>\n",
       "      <th>4</th>\n",
       "      <td>1989</td>\n",
       "      <td>1.800495</td>\n",
       "    </tr>\n",
       "  </tbody>\n",
       "</table>\n",
       "</div>"
      ],
      "text/plain": [
       "   year  output_gap\n",
       "0  1985   -2.239437\n",
       "1  1986   -1.493276\n",
       "2  1987   -0.898263\n",
       "3  1988    0.883434\n",
       "4  1989    1.800495"
      ]
     },
     "execution_count": 89,
     "metadata": {},
     "output_type": "execute_result"
    }
   ],
   "source": [
    "df_oecd.head()"
   ]
  },
  {
   "cell_type": "code",
   "execution_count": 90,
   "id": "8b2df327-f02a-41ed-be2a-fe3506c0e110",
   "metadata": {},
   "outputs": [
    {
     "data": {
      "text/plain": [
       "array([1985, 1986, 1987, 1988, 1989, 1990, 1991, 1992, 1993, 1994, 1995,\n",
       "       1996, 1997, 1998, 1999, 2000, 2001, 2002, 2003, 2004, 2005, 2006,\n",
       "       2007, 2008, 2009, 2010, 2011, 2012, 2013, 2014, 2015, 2016, 2017,\n",
       "       2018, 2019, 2020, 2021, 2022])"
      ]
     },
     "execution_count": 90,
     "metadata": {},
     "output_type": "execute_result"
    }
   ],
   "source": [
    "df_oecd[\"year\"].unique()\n",
    "# need from 1980 to 1984"
   ]
  },
  {
   "cell_type": "code",
   "execution_count": 91,
   "id": "4b63033c-20f6-442c-b315-6cd7a3044243",
   "metadata": {},
   "outputs": [],
   "source": [
    "df_oecd = df.loc[df_oecd[\"year\"].isin(time_span)]"
   ]
  },
  {
   "cell_type": "code",
   "execution_count": 92,
   "id": "db2b97a3-b6ef-48f4-b9d6-c892e505bf69",
   "metadata": {},
   "outputs": [],
   "source": [
    "df_nasdaq = df_nasdaq.rename(columns={\"Value\": \"output_gap\"})"
   ]
  },
  {
   "cell_type": "code",
   "execution_count": 93,
   "id": "55606b13-9f69-4b7d-bd0c-64ce897d5322",
   "metadata": {},
   "outputs": [],
   "source": [
    "df_nasdaq[\"year\"] = df_nasdaq[\"Date\"].apply(lambda x: date_to_year(x))\n",
    "df_nasdaq.drop(\"Date\", axis=1, inplace=True)"
   ]
  },
  {
   "cell_type": "code",
   "execution_count": 94,
   "id": "4ca28a19-e821-4570-8aa6-09b7868093ca",
   "metadata": {},
   "outputs": [],
   "source": [
    "df_nasdaq = df_nasdaq[[\"year\", \"output_gap\"]]"
   ]
  },
  {
   "cell_type": "code",
   "execution_count": 95,
   "id": "d45c0641-e41c-4c6b-b402-039a3cd7e525",
   "metadata": {},
   "outputs": [],
   "source": [
    "df_nasdaq = df_nasdaq.sort_values(\"year\")"
   ]
  },
  {
   "cell_type": "code",
   "execution_count": 96,
   "id": "e8427ad1-972a-4166-9747-dd8bf3f662ee",
   "metadata": {},
   "outputs": [],
   "source": [
    "df_nasdaq = df_nasdaq.loc[df_nasdaq[\"year\"].isin([year for year in range(1980, 1985)])]"
   ]
  },
  {
   "cell_type": "code",
   "execution_count": 100,
   "id": "bbe8fd9b-7ff2-4181-ad74-d32b554de6f2",
   "metadata": {},
   "outputs": [],
   "source": [
    "df = pd.concat([df_nasdaq, df_oecd])"
   ]
  },
  {
   "cell_type": "code",
   "execution_count": 101,
   "id": "3ebae70f-c73e-4aed-83ff-8704419fe81e",
   "metadata": {},
   "outputs": [],
   "source": [
    "df.to_csv(clean_data_dir / \"output_gap.csv\", sep=\"\\t\", index=False)"
   ]
  },
  {
   "cell_type": "markdown",
   "id": "17e4fa8f-a7b7-4958-ae36-16935c3ae04f",
   "metadata": {},
   "source": [
    "# Additional Regressors"
   ]
  },
  {
   "cell_type": "markdown",
   "id": "a63c0e1a-aac7-4b94-b009-97f2b5205f34",
   "metadata": {},
   "source": [
    "### Unemployment"
   ]
  },
  {
   "cell_type": "markdown",
   "id": "5e20b2ec-29bf-40c2-8e7e-4aa32424770a",
   "metadata": {},
   "source": [
    "(FRED)"
   ]
  },
  {
   "cell_type": "code",
   "execution_count": 67,
   "id": "ef4d0dcf-6543-46ea-a8c2-4f21054d26b6",
   "metadata": {},
   "outputs": [],
   "source": [
    "df = pd.read_csv(\n",
    "    raw_data_dir / \"LRHUTTTTITA156S.csv\",\n",
    "    sep=\",\",\n",
    ")"
   ]
  },
  {
   "cell_type": "code",
   "execution_count": 68,
   "id": "0aae3ef2-0ad9-4b90-82f1-652f869ce6b8",
   "metadata": {},
   "outputs": [],
   "source": [
    "df = df.rename(columns={\"DATE\": \"year\", \"LRHUTTTTITA156S\": \"unemployment_rate\"})"
   ]
  },
  {
   "cell_type": "code",
   "execution_count": 70,
   "id": "e4f6cad3-8fff-4738-9afb-e26a7964e381",
   "metadata": {},
   "outputs": [],
   "source": [
    "df[\"year\"] = df[\"year\"].apply(lambda x: date_to_year(x))"
   ]
  },
  {
   "cell_type": "code",
   "execution_count": 73,
   "id": "47b4d42e-cdbb-4c04-a79f-272cb3b67165",
   "metadata": {},
   "outputs": [],
   "source": [
    "df = df.loc[df[\"year\"].isin(time_span)]"
   ]
  },
  {
   "cell_type": "code",
   "execution_count": 74,
   "id": "46067dc0-dd24-48a5-949b-f14950a030e3",
   "metadata": {},
   "outputs": [
    {
     "data": {
      "text/html": [
       "<div>\n",
       "<style scoped>\n",
       "    .dataframe tbody tr th:only-of-type {\n",
       "        vertical-align: middle;\n",
       "    }\n",
       "\n",
       "    .dataframe tbody tr th {\n",
       "        vertical-align: top;\n",
       "    }\n",
       "\n",
       "    .dataframe thead th {\n",
       "        text-align: right;\n",
       "    }\n",
       "</style>\n",
       "<table border=\"1\" class=\"dataframe\">\n",
       "  <thead>\n",
       "    <tr style=\"text-align: right;\">\n",
       "      <th></th>\n",
       "      <th>year</th>\n",
       "      <th>unemployment_rate</th>\n",
       "    </tr>\n",
       "  </thead>\n",
       "  <tbody>\n",
       "    <tr>\n",
       "      <th>0</th>\n",
       "      <td>1982</td>\n",
       "      <td>7.166667</td>\n",
       "    </tr>\n",
       "    <tr>\n",
       "      <th>1</th>\n",
       "      <td>1983</td>\n",
       "      <td>7.366667</td>\n",
       "    </tr>\n",
       "    <tr>\n",
       "      <th>2</th>\n",
       "      <td>1984</td>\n",
       "      <td>7.833333</td>\n",
       "    </tr>\n",
       "    <tr>\n",
       "      <th>3</th>\n",
       "      <td>1985</td>\n",
       "      <td>8.141667</td>\n",
       "    </tr>\n",
       "    <tr>\n",
       "      <th>4</th>\n",
       "      <td>1986</td>\n",
       "      <td>8.883333</td>\n",
       "    </tr>\n",
       "  </tbody>\n",
       "</table>\n",
       "</div>"
      ],
      "text/plain": [
       "   year  unemployment_rate\n",
       "0  1982           7.166667\n",
       "1  1983           7.366667\n",
       "2  1984           7.833333\n",
       "3  1985           8.141667\n",
       "4  1986           8.883333"
      ]
     },
     "execution_count": 74,
     "metadata": {},
     "output_type": "execute_result"
    }
   ],
   "source": [
    "df.head()"
   ]
  },
  {
   "cell_type": "code",
   "execution_count": 75,
   "id": "69d28dce-8381-49cb-8de5-b2c65687bd93",
   "metadata": {},
   "outputs": [],
   "source": [
    "df.to_csv(clean_data_dir / \"unemployment_rate.csv\", sep=\"\\t\", index=False)"
   ]
  },
  {
   "cell_type": "markdown",
   "id": "2bb1eb4b-019b-4eab-9b8c-124c4dee12db",
   "metadata": {},
   "source": [
    "### Exchange Rate"
   ]
  },
  {
   "cell_type": "code",
   "execution_count": 56,
   "id": "00c04798-66a1-4d75-ae0a-74c1f5b354b6",
   "metadata": {},
   "outputs": [],
   "source": [
    "df = pd.read_csv(\n",
    "    raw_data_dir / \"USD_serie_storica_giornaliera .csv\",\n",
    "    sep=\",\",\n",
    "    usecols=[\"Data di Riferimento\", \"Quotazione\"]\n",
    ")"
   ]
  },
  {
   "cell_type": "code",
   "execution_count": 57,
   "id": "bab0cdfe-e346-421b-ae9e-1f6921c2ae20",
   "metadata": {},
   "outputs": [],
   "source": [
    "df = df.rename(columns={\"Data di Riferimento\": \"year\", \"Quotazione\": \"exchange_rate\"})"
   ]
  },
  {
   "cell_type": "code",
   "execution_count": 58,
   "id": "10d1dc29-1b40-4c4f-bb53-ae11c0d72158",
   "metadata": {},
   "outputs": [],
   "source": [
    "df = df.sort_values(\"year\")"
   ]
  },
  {
   "cell_type": "code",
   "execution_count": 59,
   "id": "c6b5f2ee-8c25-45ad-a6a0-645dc070eaf6",
   "metadata": {},
   "outputs": [],
   "source": [
    "df[\"year\"] = df[\"year\"].apply(lambda x: date_to_year(x))"
   ]
  },
  {
   "cell_type": "code",
   "execution_count": 60,
   "id": "4c1012d5-4ab0-4dcf-941f-dfb833127559",
   "metadata": {},
   "outputs": [],
   "source": [
    "df = df.drop_duplicates(\"year\", keep='last')"
   ]
  },
  {
   "cell_type": "code",
   "execution_count": 61,
   "id": "c53f279d-b52e-45b3-9acf-abc7846f00e6",
   "metadata": {},
   "outputs": [],
   "source": [
    "df = df.loc[df[\"year\"].isin(time_span)]"
   ]
  },
  {
   "cell_type": "code",
   "execution_count": 62,
   "id": "b9903c36-57bf-4484-aeee-a57b52ca1f3d",
   "metadata": {},
   "outputs": [
    {
     "data": {
      "text/html": [
       "<div>\n",
       "<style scoped>\n",
       "    .dataframe tbody tr th:only-of-type {\n",
       "        vertical-align: middle;\n",
       "    }\n",
       "\n",
       "    .dataframe tbody tr th {\n",
       "        vertical-align: top;\n",
       "    }\n",
       "\n",
       "    .dataframe thead th {\n",
       "        text-align: right;\n",
       "    }\n",
       "</style>\n",
       "<table border=\"1\" class=\"dataframe\">\n",
       "  <thead>\n",
       "    <tr style=\"text-align: right;\">\n",
       "      <th></th>\n",
       "      <th>year</th>\n",
       "      <th>exchange_rate</th>\n",
       "    </tr>\n",
       "  </thead>\n",
       "  <tbody>\n",
       "    <tr>\n",
       "      <th>0</th>\n",
       "      <td>2002</td>\n",
       "      <td>1950.0</td>\n",
       "    </tr>\n",
       "  </tbody>\n",
       "</table>\n",
       "</div>"
      ],
      "text/plain": [
       "   year  exchange_rate\n",
       "0  2002         1950.0"
      ]
     },
     "execution_count": 62,
     "metadata": {},
     "output_type": "execute_result"
    }
   ],
   "source": [
    "add = pd.DataFrame(\n",
    "[[2002, 1950.000]],\n",
    "    columns=[\"year\", \"exchange_rate\"]\n",
    ")\n",
    "add"
   ]
  },
  {
   "cell_type": "code",
   "execution_count": 64,
   "id": "51a3f6f1-21dc-4a0a-ae39-9a11a1b711d1",
   "metadata": {},
   "outputs": [],
   "source": [
    "df = pd.concat([df, add])"
   ]
  },
  {
   "cell_type": "code",
   "execution_count": 66,
   "id": "24457da9-dfd5-4e2d-a30c-dc53b3e8066e",
   "metadata": {},
   "outputs": [],
   "source": [
    "df = df.reset_index(drop=True)"
   ]
  },
  {
   "cell_type": "code",
   "execution_count": 67,
   "id": "02b90dd6-7109-42bc-829a-3ec00c85dc0a",
   "metadata": {},
   "outputs": [],
   "source": [
    "df.to_csv(clean_data_dir / \"exchange_rate.csv\", sep=\"\\t\", index=False)"
   ]
  },
  {
   "cell_type": "markdown",
   "id": "dfba8411-ce83-44b4-adab-e5924e778e09",
   "metadata": {},
   "source": [
    "### Foreign Interest Rate"
   ]
  },
  {
   "cell_type": "code",
   "execution_count": 31,
   "id": "bdeceba5-d081-4bf1-830c-9ef5404e5213",
   "metadata": {},
   "outputs": [],
   "source": [
    "df = pd.read_csv(\n",
    "    raw_data_dir / \"US10y_bond.csv\",\n",
    "    sep=\",\",\n",
    ")"
   ]
  },
  {
   "cell_type": "code",
   "execution_count": 32,
   "id": "c70c19bb-8368-4fb7-85e6-be8d1a4866b2",
   "metadata": {},
   "outputs": [],
   "source": [
    "df = df.rename(columns={\"YEAR\": \"year\", \"Value\": \"US_interest_rate\"})"
   ]
  },
  {
   "cell_type": "code",
   "execution_count": 33,
   "id": "467ba15f-3b8d-4e96-a195-c180e8747d16",
   "metadata": {},
   "outputs": [],
   "source": [
    "df = df.loc[df[\"year\"].isin(time_span)]"
   ]
  },
  {
   "cell_type": "code",
   "execution_count": 34,
   "id": "1328cdf2-912a-4924-bd30-bf34272aaba8",
   "metadata": {},
   "outputs": [
    {
     "data": {
      "text/html": [
       "<div>\n",
       "<style scoped>\n",
       "    .dataframe tbody tr th:only-of-type {\n",
       "        vertical-align: middle;\n",
       "    }\n",
       "\n",
       "    .dataframe tbody tr th {\n",
       "        vertical-align: top;\n",
       "    }\n",
       "\n",
       "    .dataframe thead th {\n",
       "        text-align: right;\n",
       "    }\n",
       "</style>\n",
       "<table border=\"1\" class=\"dataframe\">\n",
       "  <thead>\n",
       "    <tr style=\"text-align: right;\">\n",
       "      <th></th>\n",
       "      <th>year</th>\n",
       "      <th>US_interest_rate</th>\n",
       "    </tr>\n",
       "  </thead>\n",
       "  <tbody>\n",
       "    <tr>\n",
       "      <th>20</th>\n",
       "      <td>1980</td>\n",
       "      <td>11.460000</td>\n",
       "    </tr>\n",
       "    <tr>\n",
       "      <th>21</th>\n",
       "      <td>1981</td>\n",
       "      <td>13.910833</td>\n",
       "    </tr>\n",
       "    <tr>\n",
       "      <th>22</th>\n",
       "      <td>1982</td>\n",
       "      <td>13.001667</td>\n",
       "    </tr>\n",
       "    <tr>\n",
       "      <th>23</th>\n",
       "      <td>1983</td>\n",
       "      <td>11.105000</td>\n",
       "    </tr>\n",
       "    <tr>\n",
       "      <th>24</th>\n",
       "      <td>1984</td>\n",
       "      <td>12.438333</td>\n",
       "    </tr>\n",
       "  </tbody>\n",
       "</table>\n",
       "</div>"
      ],
      "text/plain": [
       "    year  US_interest_rate\n",
       "20  1980         11.460000\n",
       "21  1981         13.910833\n",
       "22  1982         13.001667\n",
       "23  1983         11.105000\n",
       "24  1984         12.438333"
      ]
     },
     "execution_count": 34,
     "metadata": {},
     "output_type": "execute_result"
    }
   ],
   "source": [
    "df.head()"
   ]
  },
  {
   "cell_type": "code",
   "execution_count": 35,
   "id": "76222547-e21d-44bd-ad0a-9d84ad20bc6e",
   "metadata": {},
   "outputs": [],
   "source": [
    "df.to_csv(clean_data_dir / \"us_bond_yield.csv\", sep=\"\\t\", index=False)"
   ]
  }
 ],
 "metadata": {
  "kernelspec": {
   "display_name": "Python 3 (ipykernel)",
   "language": "python",
   "name": "python3"
  },
  "language_info": {
   "codemirror_mode": {
    "name": "ipython",
    "version": 3
   },
   "file_extension": ".py",
   "mimetype": "text/x-python",
   "name": "python",
   "nbconvert_exporter": "python",
   "pygments_lexer": "ipython3",
   "version": "3.11.0"
  }
 },
 "nbformat": 4,
 "nbformat_minor": 5
}
